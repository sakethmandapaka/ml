{
  "nbformat": 4,
  "nbformat_minor": 0,
  "metadata": {
    "colab": {
      "name": "Naive Bayes.ipynb",
      "provenance": [],
      "mount_file_id": "1-M_v_Y39SN1q0KMhyswwFhFAwiyEAP4k",
      "authorship_tag": "ABX9TyNNYKvwYaqlYrE3cmGcztVO",
      "include_colab_link": true
    },
    "kernelspec": {
      "name": "python3",
      "display_name": "Python 3"
    }
  },
  "cells": [
    {
      "cell_type": "markdown",
      "metadata": {
        "id": "view-in-github",
        "colab_type": "text"
      },
      "source": [
        "<a href=\"https://colab.research.google.com/github/sakethmandapaka/ml/blob/master/Naive_Bayes.ipynb\" target=\"_parent\"><img src=\"https://colab.research.google.com/assets/colab-badge.svg\" alt=\"Open In Colab\"/></a>"
      ]
    },
    {
      "cell_type": "code",
      "metadata": {
        "id": "OoCT1rBKlqGv",
        "colab_type": "code",
        "colab": {
          "base_uri": "https://localhost:8080/",
          "height": 404
        },
        "outputId": "4bfe7b50-1bee-4b9c-d3a4-0ab169b8f597"
      },
      "source": [
        "import pandas as pd\n",
        "from sklearn.model_selection import train_test_split\n",
        "from sklearn.naive_bayes import GaussianNB\n",
        "from sklearn import metrics\n",
        "from sklearn import preprocessing\n",
        "\n",
        "\n",
        "data=pd.read_csv(r\"/content/drive/My Drive/ML Projects/NB.csv\")\n",
        "y = data.Person\n",
        "print(data)\n",
        "#creating labelEncoder\n",
        "le = preprocessing.LabelEncoder()\n",
        "data['Person']=le.fit_transform(data['Person'])\n",
        "print(data)"
      ],
      "execution_count": null,
      "outputs": [
        {
          "output_type": "stream",
          "text": [
            "   height (feet)  weight (lbs)  foot size(inches)  Person\n",
            "0           6.00           180                 12    male\n",
            "1           5.92           190                 11    male\n",
            "2           5.58           170                 12    male\n",
            "3           5.92           165                 10    male\n",
            "4           5.00           100                  6  female\n",
            "5           5.50           150                  8  female\n",
            "6           5.42           130                  7  female\n",
            "7           5.75           150                  9  female\n",
            "8           6.00           130                  8  female\n",
            "9           5.90           175                 11    male\n",
            "   height (feet)  weight (lbs)  foot size(inches)  Person\n",
            "0           6.00           180                 12       1\n",
            "1           5.92           190                 11       1\n",
            "2           5.58           170                 12       1\n",
            "3           5.92           165                 10       1\n",
            "4           5.00           100                  6       0\n",
            "5           5.50           150                  8       0\n",
            "6           5.42           130                  7       0\n",
            "7           5.75           150                  9       0\n",
            "8           6.00           130                  8       0\n",
            "9           5.90           175                 11       1\n"
          ],
          "name": "stdout"
        }
      ]
    },
    {
      "cell_type": "code",
      "metadata": {
        "id": "9ABJ8cJjmUI3",
        "colab_type": "code",
        "colab": {
          "base_uri": "https://localhost:8080/",
          "height": 510
        },
        "outputId": "2f488701-bd9f-44bf-e213-af731346a510"
      },
      "source": [
        "X_train, X_test, y_train, y_test = train_test_split(data, y, test_size=0.2)\n",
        "print(X_train.shape, y_train.shape)\n",
        "print(X_test.shape, y_test.shape)\n",
        "\n",
        "#Create a Gaussian Classifier\n",
        "model = GaussianNB()\n",
        "model.fit(X_train, y_train)\n",
        "#Predict the response for test dataset\n",
        "y_pred = model.predict(X_test)\n",
        "print(X_train)\n",
        "print(X_test)\n",
        "print(y_train)\n",
        "print(y_test)\n",
        "print(y_pred)\n",
        "# Model Accuracy, how often is the classifier correct?\n",
        "print(\"Accuracy:\",metrics.accuracy_score(y_test, y_pred))"
      ],
      "execution_count": null,
      "outputs": [
        {
          "output_type": "stream",
          "text": [
            "(8, 4) (8,)\n",
            "(2, 4) (2,)\n",
            "   height (feet)  weight (lbs)  foot size(inches)  Person\n",
            "4           5.00           100                  6       0\n",
            "6           5.42           130                  7       0\n",
            "8           6.00           130                  8       0\n",
            "0           6.00           180                 12       1\n",
            "1           5.92           190                 11       1\n",
            "3           5.92           165                 10       1\n",
            "5           5.50           150                  8       0\n",
            "9           5.90           175                 11       1\n",
            "   height (feet)  weight (lbs)  foot size(inches)  Person\n",
            "7           5.75           150                  9       0\n",
            "2           5.58           170                 12       1\n",
            "4    female\n",
            "6    female\n",
            "8    female\n",
            "0      male\n",
            "1      male\n",
            "3      male\n",
            "5    female\n",
            "9      male\n",
            "Name: Person, dtype: object\n",
            "7    female\n",
            "2      male\n",
            "Name: Person, dtype: object\n",
            "['female' 'male']\n",
            "Accuracy: 1.0\n"
          ],
          "name": "stdout"
        }
      ]
    },
    {
      "cell_type": "code",
      "metadata": {
        "id": "CfyuQUezsEAH",
        "colab_type": "code",
        "colab": {}
      },
      "source": [
        ""
      ],
      "execution_count": null,
      "outputs": []
    }
  ]
}